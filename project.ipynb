{
 "cells": [
  {
   "cell_type": "markdown",
   "metadata": {},
   "source": [
    "# Programming and Scripting Project - Iris Dataset Analysis"
   ]
  },
  {
   "cell_type": "markdown",
   "metadata": {},
   "source": [
    "This notebook was created using the Python 3.9.7 kernel (Anaconda distribution)."
   ]
  },
  {
   "cell_type": "markdown",
   "metadata": {},
   "source": [
    "I imported the dataset using the scikit-learn module. Setting the as_frame option to True imported the dataset as a pandas dataframe."
   ]
  },
  {
   "cell_type": "code",
   "execution_count": 2,
   "metadata": {},
   "outputs": [],
   "source": [
    "from sklearn.datasets import load_iris              #loads the modules necessary for this code\n",
    "from matplotlib import pyplot as plt\n",
    "import pandas as pd\n",
    "import numpy as np\n",
    "import scipy.stats\n",
    "\n",
    "data = load_iris(as_frame=True)                     #loads the iris dataset as a Dataframe\n",
    "\n",
    "irisData = data.frame                               #assigns the variable name irisData to the Dataframe"
   ]
  },
  {
   "cell_type": "markdown",
   "metadata": {},
   "source": [
    "Summary statistics"
   ]
  },
  {
   "cell_type": "code",
   "execution_count": 3,
   "metadata": {},
   "outputs": [
    {
     "name": "stdout",
     "output_type": "stream",
     "text": [
      "   sepal length (cm)  sepal width (cm)  petal length (cm)  petal width (cm)  \\\n",
      "0                5.1               3.5                1.4               0.2   \n",
      "1                4.9               3.0                1.4               0.2   \n",
      "2                4.7               3.2                1.3               0.2   \n",
      "3                4.6               3.1                1.5               0.2   \n",
      "4                5.0               3.6                1.4               0.2   \n",
      "\n",
      "   target  \n",
      "0       0  \n",
      "1       0  \n",
      "2       0  \n",
      "3       0  \n",
      "4       0  \n",
      "There are 150 samples in the dataset\n",
      "       sepal length (cm)  sepal width (cm)  petal length (cm)  \\\n",
      "count         150.000000        150.000000         150.000000   \n",
      "mean            5.843333          3.057333           3.758000   \n",
      "std             0.828066          0.435866           1.765298   \n",
      "min             4.300000          2.000000           1.000000   \n",
      "25%             5.100000          2.800000           1.600000   \n",
      "50%             5.800000          3.000000           4.350000   \n",
      "75%             6.400000          3.300000           5.100000   \n",
      "max             7.900000          4.400000           6.900000   \n",
      "\n",
      "       petal width (cm)      target  \n",
      "count        150.000000  150.000000  \n",
      "mean           1.199333    1.000000  \n",
      "std            0.762238    0.819232  \n",
      "min            0.100000    0.000000  \n",
      "25%            0.300000    0.000000  \n",
      "50%            1.300000    1.000000  \n",
      "75%            1.800000    2.000000  \n",
      "max            2.500000    2.000000  \n"
     ]
    }
   ],
   "source": [
    "print(irisData.head())                          #shows the first 5 lines of the dataframe to illustrate the structure\n",
    "\n",
    "print(\"There are {} samples in the dataset\".format(irisData['target'].count()))     #counts the samples in the dataset by counting each entry in the target column\n",
    "\n",
    "print(irisData.describe())                      #describes the dataset as a whole. It gives summary statistics for each attribute without considering the separate varieties.\n"
   ]
  },
  {
   "cell_type": "markdown",
   "metadata": {},
   "source": [
    "More summary statistics - looking at the varieties separately"
   ]
  },
  {
   "cell_type": "code",
   "execution_count": 4,
   "metadata": {},
   "outputs": [
    {
     "name": "stdout",
     "output_type": "stream",
     "text": [
      "Target codes:\n",
      "0 = setosa \n",
      "1 = versicolor \n",
      "2 = virginica\n",
      "       sepal length (cm)             sepal width (cm)              \\\n",
      "                     min  max   mean              min  max   mean   \n",
      "target                                                              \n",
      "0                    4.3  5.8  5.006              2.3  4.4  3.428   \n",
      "1                    4.9  7.0  5.936              2.0  3.4  2.770   \n",
      "2                    4.9  7.9  6.588              2.2  3.8  2.974   \n",
      "\n",
      "       petal length (cm)             petal width (cm)              \n",
      "                     min  max   mean              min  max   mean  \n",
      "target                                                             \n",
      "0                    1.0  1.9  1.462              0.1  0.6  0.246  \n",
      "1                    3.0  5.1  4.260              1.0  1.8  1.326  \n",
      "2                    4.5  6.9  5.552              1.4  2.5  2.026  \n"
     ]
    }
   ],
   "source": [
    "print(\"Target codes:\\n0 =\", data.target_names[0], \"\\n1 =\", data.target_names[1], \"\\n2 =\", data.target_names[2])\n",
    "\n",
    "print(irisData.groupby('target').agg(\n",
    "    {\n",
    "        'sepal length (cm)': [\"min\", \"max\", \"mean\"],\n",
    "        'sepal width (cm)': [\"min\", \"max\", \"mean\"],\n",
    "        'petal length (cm)': [\"min\", \"max\", \"mean\"],\n",
    "        'petal width (cm)': [\"min\", \"max\", \"mean\"]\n",
    "    }\n",
    "\n",
    ")\n",
    ")\n"
   ]
  },
  {
   "cell_type": "markdown",
   "metadata": {},
   "source": [
    "Boxplots showing the distribution of the feature classes among each variety"
   ]
  },
  {
   "cell_type": "code",
   "execution_count": 5,
   "metadata": {},
   "outputs": [
    {
     "data": {
      "image/png": "[encoded data removed]",
      "text/plain": [
       "<Figure size 432x288 with 1 Axes>"
      ]
     },
     "metadata": {
      "needs_background": "light"
     },
     "output_type": "display_data"
    },
    {
     "data": {
      "image/png": "[encoded data removed]",
      "text/plain": [
       "<Figure size 432x288 with 1 Axes>"
      ]
     },
     "metadata": {
      "needs_background": "light"
     },
     "output_type": "display_data"
    },
    {
     "data": {
      "image/png": "[encoded data removed]",
      "text/plain": [
       "<Figure size 432x288 with 1 Axes>"
      ]
     },
     "metadata": {
      "needs_background": "light"
     },
     "output_type": "display_data"
    },
    {
     "data": {
      "image/png": "[encoded data removed]",
      "text/plain": [
       "<Figure size 432x288 with 1 Axes>"
      ]
     },
     "metadata": {
      "needs_background": "light"
     },
     "output_type": "display_data"
    }
   ],
   "source": [
    "labels = data.target_names                  #creates a list of the variety names\n",
    "sepLen = [                                #creates a list containing the sepal lengths of each variety\n",
    "    irisData.iloc[:50]['sepal length (cm)'],irisData.iloc[50:100]['sepal length (cm)'],\n",
    "    irisData.iloc[100:150]['sepal length (cm)']\n",
    "]\n",
    "\n",
    "sepWid = [                                #creates a list containing the sepal widths of each variety\n",
    "    irisData.iloc[:50]['sepal width (cm)'],irisData.iloc[50:100]['sepal width (cm)'],\n",
    "    irisData.iloc[100:150]['sepal width (cm)']\n",
    "]\n",
    "\n",
    "petLen = [                                #creates a list containing the petal lengths of each variety\n",
    "    irisData.iloc[:50]['petal length (cm)'],irisData.iloc[50:100]['petal length (cm)'],\n",
    "    irisData.iloc[100:150]['petal length (cm)']\n",
    "]\n",
    "\n",
    "petWid = [                                #creates a list containing the petal widths of each variety\n",
    "    irisData.iloc[:50]['petal width (cm)'],irisData.iloc[50:100]['petal width (cm)'],\n",
    "    irisData.iloc[100:150]['petal width (cm)']\n",
    "]\n",
    "\n",
    "plt.boxplot(sepLen, labels = labels)      \n",
    "plt.ylabel(\"sepal length in cm\")\n",
    "plt.title(\"Sepal Length\")\n",
    "plt.show()\n",
    "\n",
    "plt.boxplot(sepWid, labels = labels)      \n",
    "plt.ylabel(\"sepal width in cm\")\n",
    "plt.title(\"Sepal Width\")\n",
    "plt.show()\n",
    "\n",
    "plt.boxplot(petLen, labels = labels)      \n",
    "plt.ylabel(\"petal length in cm\")\n",
    "plt.title(\"petal Length\")\n",
    "plt.show()\n",
    "\n",
    "plt.boxplot(petWid, labels = labels)      \n",
    "plt.ylabel(\"petal width in cm\")\n",
    "plt.title(\"Petal Width\")\n",
    "plt.show()"
   ]
  },
  {
   "cell_type": "markdown",
   "metadata": {},
   "source": [
    "Six Sigma"
   ]
  },
  {
   "cell_type": "code",
   "execution_count": 6,
   "metadata": {},
   "outputs": [
    {
     "name": "stdout",
     "output_type": "stream",
     "text": [
      "       sepal length (cm) sepal width (cm) petal length (cm) petal width (cm)\n",
      "                     std              std               std              std\n",
      "target                                                                      \n",
      "0               0.352490         0.379064          0.173664         0.105386\n",
      "1               0.516171         0.313798          0.469911         0.197753\n",
      "2               0.635880         0.322497          0.551895         0.274650\n"
     ]
    }
   ],
   "source": [
    "print(irisData.groupby('target').agg(   #finds the standard deviation of the four attributes for each variety of iris\n",
    "    {\n",
    "        'sepal length (cm)': [\"std\"],\n",
    "        'sepal width (cm)': [\"std\"],\n",
    "        'petal length (cm)': [\"std\"],\n",
    "        'petal width (cm)': [\"std\"]\n",
    "    }\n",
    ")\n",
    ")"
   ]
  },
  {
   "cell_type": "markdown",
   "metadata": {},
   "source": [
    "Create Six Sigma intervals"
   ]
  },
  {
   "cell_type": "code",
   "execution_count": 10,
   "metadata": {},
   "outputs": [
    {
     "name": "stdout",
     "output_type": "stream",
     "text": [
      "Petal length confidence intervals:\n",
      "setosa\n",
      "The 95% confidence interval is (1.413, 1.511)\n",
      "Petal length confidence intervals:\n",
      "versicolor\n",
      "The 95% confidence interval is (4.126, 4.394)\n",
      "Petal length confidence intervals:\n",
      "virginica\n",
      "The 95% confidence interval is (5.395, 5.709)\n"
     ]
    }
   ],
   "source": [
    "def mean_confidence_interval(data, confidence=0.95):      #uses scipy and numpy to create a 95% confidence interval\n",
    "    a = 1.0 * data\n",
    "    n = len(a)\n",
    "    m, se = np.mean(a), scipy.stats.sem(a)\n",
    "    h = se * scipy.stats.t.ppf((1 + confidence) / 2., n-1)\n",
    "    return print('The 95% confidence interval is ({}, {})'.format(round(m-h, 3), round(m+h, 3)))\n",
    "\n",
    "intervals = [range(0, 50), range(50, 100), range(100,150)]\n",
    "\n",
    "for interval in intervals:                     #calls the function in a for loop to print out the 95% confidence interval for petal lengths of all 3 varieties\n",
    "    print(\"Petal length confidence intervals:\")\n",
    "    print(data.target_names[(min(interval))//50])\n",
    "    mean_confidence_interval(irisData['petal length (cm)'][interval])\n",
    "        "
   ]
  },
  {
   "cell_type": "code",
   "execution_count": 9,
   "metadata": {},
   "outputs": [
    {
     "name": "stdout",
     "output_type": "stream",
     "text": [
      "Petal length confidence intervals:\n",
      "setosa\n",
      "The 95% confidence interval is (0.216, 0.276)\n",
      "Petal length confidence intervals:\n",
      "versicolor\n",
      "The 95% confidence interval is (1.27, 1.382)\n",
      "Petal length confidence intervals:\n",
      "virginica\n",
      "The 95% confidence interval is (1.948, 2.104)\n",
      "sepal length confidence intervals:\n",
      "setosa\n",
      "The 95% confidence interval is (1.413, 1.511)\n",
      "sepal length confidence intervals:\n",
      "versicolor\n",
      "The 95% confidence interval is (4.126, 4.394)\n",
      "sepal length confidence intervals:\n",
      "virginica\n",
      "The 95% confidence interval is (5.395, 5.709)\n",
      "Petal length confidence intervals:\n",
      "setosa\n",
      "The 95% confidence interval is (3.32, 3.536)\n",
      "Petal length confidence intervals:\n",
      "versicolor\n",
      "The 95% confidence interval is (2.681, 2.859)\n",
      "Petal length confidence intervals:\n",
      "virginica\n",
      "The 95% confidence interval is (2.882, 3.066)\n"
     ]
    }
   ],
   "source": [
    "for interval in intervals:                     #calls the function in a for loop to print out the 95% confidence interval for petal widths of all 3 varieties\n",
    "    print(\"Petal length confidence intervals:\")\n",
    "    print(data.target_names[(min(interval))//50])\n",
    "    mean_confidence_interval(irisData['petal width (cm)'][interval])\n",
    "\n",
    "for interval in intervals:                     #calls the function in a for loop to print out the 95% confidence interval for sepal lengths of all 3 varieties\n",
    "    print(\"sepal length confidence intervals:\")\n",
    "    print(data.target_names[(min(interval))//50])\n",
    "    mean_confidence_interval(irisData['petal length (cm)'][interval])\n",
    "\n",
    "for interval in intervals:                     #calls the function in a for loop to print out the 95% confidence interval for sepal widths of all 3 varieties\n",
    "    print(\"Petal length confidence intervals:\")\n",
    "    print(data.target_names[(min(interval))//50])\n",
    "    mean_confidence_interval(irisData['sepal width (cm)'][interval])\n"
   ]
  },
  {
   "cell_type": "markdown",
   "metadata": {},
   "source": [
    "Create an algorithm to classify iris samples"
   ]
  },
  {
   "cell_type": "code",
   "execution_count": null,
   "metadata": {},
   "outputs": [],
   "source": []
  }
 ],
 "metadata": {
  "interpreter": {
   "hash": "7af89e52b2f234d10757a04bec514fd524af839670526d5f4fc80993c2d0b9e0"
  },
  "kernelspec": {
   "display_name": "Python 3.9.7 ('base')",
   "language": "python",
   "name": "python3"
  },
  "language_info": {
   "codemirror_mode": {
    "name": "ipython",
    "version": 3
   },
   "file_extension": ".py",
   "mimetype": "text/x-python",
   "name": "python",
   "nbconvert_exporter": "python",
   "pygments_lexer": "ipython3",
   "version": "3.9.7"
  },
  "orig_nbformat": 4
 },
 "nbformat": 4,
 "nbformat_minor": 2
}
